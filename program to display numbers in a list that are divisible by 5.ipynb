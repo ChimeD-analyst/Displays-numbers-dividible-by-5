{
 "cells": [
  {
   "cell_type": "code",
   "execution_count": null,
   "metadata": {},
   "outputs": [],
   "source": [
    "n=input('How many numbers are you entering: ')\n",
    "n_list=[]\n",
    "i=0\n",
    "while i<int(n):\n",
    "    numbers=input('Enter number: ')\n",
    "    n_list.append(numbers)\n",
    "    i=i+1\n",
    "print(n_list)\n",
    "new_list=[]\n",
    "for digit in n_list:\n",
    "    if int(digit)%5==0:\n",
    "        new_list.append(digit)\n",
    "print(new_list)"
   ]
  }
 ],
 "metadata": {
  "kernelspec": {
   "display_name": "Python 3",
   "language": "python",
   "name": "python3"
  },
  "language_info": {
   "codemirror_mode": {
    "name": "ipython",
    "version": 3
   },
   "file_extension": ".py",
   "mimetype": "text/x-python",
   "name": "python",
   "nbconvert_exporter": "python",
   "pygments_lexer": "ipython3",
   "version": "3.8.5"
  }
 },
 "nbformat": 4,
 "nbformat_minor": 4
}
